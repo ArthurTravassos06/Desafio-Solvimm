{
  "nbformat": 4,
  "nbformat_minor": 0,
  "metadata": {
    "colab": {
      "name": "Desafio Solvimm.ipynb",
      "provenance": [],
      "collapsed_sections": [],
      "mount_file_id": "1o0zNUQHzTCo-9DQD1VVH0v3DLcKu9fuA",
      "authorship_tag": "ABX9TyMie48W5rdjqdUL1U5/Rvhh",
      "include_colab_link": true
    },
    "kernelspec": {
      "name": "python3",
      "display_name": "Python 3"
    },
    "language_info": {
      "name": "python"
    }
  },
  "cells": [
    {
      "cell_type": "markdown",
      "metadata": {
        "id": "view-in-github",
        "colab_type": "text"
      },
      "source": [
        "<a href=\"https://colab.research.google.com/github/ArthurTravassos06/Desafio-Solvimm/blob/main/Desafio_Solvimm.ipynb\" target=\"_parent\"><img src=\"https://colab.research.google.com/assets/colab-badge.svg\" alt=\"Open In Colab\"/></a>"
      ]
    },
    {
      "cell_type": "markdown",
      "metadata": {
        "id": "OYdcHdwnX8TU"
      },
      "source": [
        "# **Importações**"
      ]
    },
    {
      "cell_type": "code",
      "metadata": {
        "id": "MREqhu64X79s"
      },
      "source": [
        "import pandas as pd \n",
        "#Importando a biblioteca do pandas\n",
        "\n",
        "from google.colab import drive\n",
        "#Importa a biblioteca do google drive"
      ],
      "execution_count": 1,
      "outputs": []
    },
    {
      "cell_type": "markdown",
      "metadata": {
        "id": "zuUNrVUv2wpw"
      },
      "source": [
        "# **Montando Google Drive**"
      ]
    },
    {
      "cell_type": "code",
      "metadata": {
        "colab": {
          "base_uri": "https://localhost:8080/"
        },
        "id": "8WbIHnaG25m1",
        "outputId": "71b78155-613b-4a78-b58c-f487cd870b04"
      },
      "source": [
        "drive.mount('/content/drive')\n",
        "#Monta imagem do google drive no Notebook"
      ],
      "execution_count": 2,
      "outputs": [
        {
          "output_type": "stream",
          "name": "stdout",
          "text": [
            "Drive already mounted at /content/drive; to attempt to forcibly remount, call drive.mount(\"/content/drive\", force_remount=True).\n"
          ]
        }
      ]
    },
    {
      "cell_type": "markdown",
      "metadata": {
        "id": "lQKf09QAVJnj"
      },
      "source": [
        "# **Leitura do Dataframe**"
      ]
    },
    {
      "cell_type": "code",
      "metadata": {
        "id": "d2h9fPzbVHBc",
        "colab": {
          "base_uri": "https://localhost:8080/",
          "height": 455
        },
        "outputId": "db66a1a1-4da3-4498-c5bf-2c1fc6f1c61d"
      },
      "source": [
        "df_movies = pd.read_csv('/content/drive/MyDrive/movies.csv', sep=';', names = ('Movie_Id','Movie_Name')) \n",
        "#Importando a base de dados referente aos filmes\n",
        "\n",
        "df_ratings = pd.read_csv('/content/drive/MyDrive/customers_rating.csv', sep=';' ) \n",
        "#Importando a base de dados referente as avaliações\n",
        "\n",
        "movies = df_movies.set_index('Movie_Id') \n",
        "#Criando um dataframe com index Setado no Movie_Id para realizar o left join\n",
        "\n",
        "ratings = df_ratings.set_index('Movie_Id') \n",
        "#Criando um dataframe com index Setado no Movie_Id para realizar o left join\n",
        "\n",
        "movie_ratings = ratings.join(movies) \n",
        "#Realizando o left join da base de avaliações com a base de filmes \n",
        "\n",
        "movie_ratings"
      ],
      "execution_count": 13,
      "outputs": [
        {
          "output_type": "execute_result",
          "data": {
            "text/html": [
              "\n",
              "  <div id=\"df-d6471047-427f-4d4c-bb85-962302a7cf75\">\n",
              "    <div class=\"colab-df-container\">\n",
              "      <div>\n",
              "<style scoped>\n",
              "    .dataframe tbody tr th:only-of-type {\n",
              "        vertical-align: middle;\n",
              "    }\n",
              "\n",
              "    .dataframe tbody tr th {\n",
              "        vertical-align: top;\n",
              "    }\n",
              "\n",
              "    .dataframe thead th {\n",
              "        text-align: right;\n",
              "    }\n",
              "</style>\n",
              "<table border=\"1\" class=\"dataframe\">\n",
              "  <thead>\n",
              "    <tr style=\"text-align: right;\">\n",
              "      <th></th>\n",
              "      <th>Cust_Id</th>\n",
              "      <th>Rating</th>\n",
              "      <th>Date</th>\n",
              "      <th>Movie_Name</th>\n",
              "    </tr>\n",
              "    <tr>\n",
              "      <th>Movie_Id</th>\n",
              "      <th></th>\n",
              "      <th></th>\n",
              "      <th></th>\n",
              "      <th></th>\n",
              "    </tr>\n",
              "  </thead>\n",
              "  <tbody>\n",
              "    <tr>\n",
              "      <th>1</th>\n",
              "      <td>1488844</td>\n",
              "      <td>3.0</td>\n",
              "      <td>2005-09-06</td>\n",
              "      <td>(Dinosaur Planet, 2003)</td>\n",
              "    </tr>\n",
              "    <tr>\n",
              "      <th>1</th>\n",
              "      <td>822109</td>\n",
              "      <td>5.0</td>\n",
              "      <td>2005-05-13</td>\n",
              "      <td>(Dinosaur Planet, 2003)</td>\n",
              "    </tr>\n",
              "    <tr>\n",
              "      <th>1</th>\n",
              "      <td>885013</td>\n",
              "      <td>4.0</td>\n",
              "      <td>2005-10-19</td>\n",
              "      <td>(Dinosaur Planet, 2003)</td>\n",
              "    </tr>\n",
              "    <tr>\n",
              "      <th>1</th>\n",
              "      <td>30878</td>\n",
              "      <td>4.0</td>\n",
              "      <td>2005-12-26</td>\n",
              "      <td>(Dinosaur Planet, 2003)</td>\n",
              "    </tr>\n",
              "    <tr>\n",
              "      <th>1</th>\n",
              "      <td>823519</td>\n",
              "      <td>3.0</td>\n",
              "      <td>2004-05-03</td>\n",
              "      <td>(Dinosaur Planet, 2003)</td>\n",
              "    </tr>\n",
              "    <tr>\n",
              "      <th>...</th>\n",
              "      <td>...</td>\n",
              "      <td>...</td>\n",
              "      <td>...</td>\n",
              "      <td>...</td>\n",
              "    </tr>\n",
              "    <tr>\n",
              "      <th>4499</th>\n",
              "      <td>2591364</td>\n",
              "      <td>2.0</td>\n",
              "      <td>2005-02-16</td>\n",
              "      <td>(In My Skin, 2002)</td>\n",
              "    </tr>\n",
              "    <tr>\n",
              "      <th>4499</th>\n",
              "      <td>1791000</td>\n",
              "      <td>2.0</td>\n",
              "      <td>2005-02-10</td>\n",
              "      <td>(In My Skin, 2002)</td>\n",
              "    </tr>\n",
              "    <tr>\n",
              "      <th>4499</th>\n",
              "      <td>512536</td>\n",
              "      <td>5.0</td>\n",
              "      <td>2005-07-27</td>\n",
              "      <td>(In My Skin, 2002)</td>\n",
              "    </tr>\n",
              "    <tr>\n",
              "      <th>4499</th>\n",
              "      <td>988963</td>\n",
              "      <td>3.0</td>\n",
              "      <td>2005-12-20</td>\n",
              "      <td>(In My Skin, 2002)</td>\n",
              "    </tr>\n",
              "    <tr>\n",
              "      <th>4499</th>\n",
              "      <td>1704416</td>\n",
              "      <td>3.0</td>\n",
              "      <td>2004-06-02</td>\n",
              "      <td>(In My Skin, 2002)</td>\n",
              "    </tr>\n",
              "  </tbody>\n",
              "</table>\n",
              "<p>24053764 rows × 4 columns</p>\n",
              "</div>\n",
              "      <button class=\"colab-df-convert\" onclick=\"convertToInteractive('df-d6471047-427f-4d4c-bb85-962302a7cf75')\"\n",
              "              title=\"Convert this dataframe to an interactive table.\"\n",
              "              style=\"display:none;\">\n",
              "        \n",
              "  <svg xmlns=\"http://www.w3.org/2000/svg\" height=\"24px\"viewBox=\"0 0 24 24\"\n",
              "       width=\"24px\">\n",
              "    <path d=\"M0 0h24v24H0V0z\" fill=\"none\"/>\n",
              "    <path d=\"M18.56 5.44l.94 2.06.94-2.06 2.06-.94-2.06-.94-.94-2.06-.94 2.06-2.06.94zm-11 1L8.5 8.5l.94-2.06 2.06-.94-2.06-.94L8.5 2.5l-.94 2.06-2.06.94zm10 10l.94 2.06.94-2.06 2.06-.94-2.06-.94-.94-2.06-.94 2.06-2.06.94z\"/><path d=\"M17.41 7.96l-1.37-1.37c-.4-.4-.92-.59-1.43-.59-.52 0-1.04.2-1.43.59L10.3 9.45l-7.72 7.72c-.78.78-.78 2.05 0 2.83L4 21.41c.39.39.9.59 1.41.59.51 0 1.02-.2 1.41-.59l7.78-7.78 2.81-2.81c.8-.78.8-2.07 0-2.86zM5.41 20L4 18.59l7.72-7.72 1.47 1.35L5.41 20z\"/>\n",
              "  </svg>\n",
              "      </button>\n",
              "      \n",
              "  <style>\n",
              "    .colab-df-container {\n",
              "      display:flex;\n",
              "      flex-wrap:wrap;\n",
              "      gap: 12px;\n",
              "    }\n",
              "\n",
              "    .colab-df-convert {\n",
              "      background-color: #E8F0FE;\n",
              "      border: none;\n",
              "      border-radius: 50%;\n",
              "      cursor: pointer;\n",
              "      display: none;\n",
              "      fill: #1967D2;\n",
              "      height: 32px;\n",
              "      padding: 0 0 0 0;\n",
              "      width: 32px;\n",
              "    }\n",
              "\n",
              "    .colab-df-convert:hover {\n",
              "      background-color: #E2EBFA;\n",
              "      box-shadow: 0px 1px 2px rgba(60, 64, 67, 0.3), 0px 1px 3px 1px rgba(60, 64, 67, 0.15);\n",
              "      fill: #174EA6;\n",
              "    }\n",
              "\n",
              "    [theme=dark] .colab-df-convert {\n",
              "      background-color: #3B4455;\n",
              "      fill: #D2E3FC;\n",
              "    }\n",
              "\n",
              "    [theme=dark] .colab-df-convert:hover {\n",
              "      background-color: #434B5C;\n",
              "      box-shadow: 0px 1px 3px 1px rgba(0, 0, 0, 0.15);\n",
              "      filter: drop-shadow(0px 1px 2px rgba(0, 0, 0, 0.3));\n",
              "      fill: #FFFFFF;\n",
              "    }\n",
              "  </style>\n",
              "\n",
              "      <script>\n",
              "        const buttonEl =\n",
              "          document.querySelector('#df-d6471047-427f-4d4c-bb85-962302a7cf75 button.colab-df-convert');\n",
              "        buttonEl.style.display =\n",
              "          google.colab.kernel.accessAllowed ? 'block' : 'none';\n",
              "\n",
              "        async function convertToInteractive(key) {\n",
              "          const element = document.querySelector('#df-d6471047-427f-4d4c-bb85-962302a7cf75');\n",
              "          const dataTable =\n",
              "            await google.colab.kernel.invokeFunction('convertToInteractive',\n",
              "                                                     [key], {});\n",
              "          if (!dataTable) return;\n",
              "\n",
              "          const docLinkHtml = 'Like what you see? Visit the ' +\n",
              "            '<a target=\"_blank\" href=https://colab.research.google.com/notebooks/data_table.ipynb>data table notebook</a>'\n",
              "            + ' to learn more about interactive tables.';\n",
              "          element.innerHTML = '';\n",
              "          dataTable['output_type'] = 'display_data';\n",
              "          await google.colab.output.renderOutput(dataTable, element);\n",
              "          const docLink = document.createElement('div');\n",
              "          docLink.innerHTML = docLinkHtml;\n",
              "          element.appendChild(docLink);\n",
              "        }\n",
              "      </script>\n",
              "    </div>\n",
              "  </div>\n",
              "  "
            ],
            "text/plain": [
              "          Cust_Id  Rating        Date               Movie_Name\n",
              "Movie_Id                                                      \n",
              "1         1488844     3.0  2005-09-06  (Dinosaur Planet, 2003)\n",
              "1          822109     5.0  2005-05-13  (Dinosaur Planet, 2003)\n",
              "1          885013     4.0  2005-10-19  (Dinosaur Planet, 2003)\n",
              "1           30878     4.0  2005-12-26  (Dinosaur Planet, 2003)\n",
              "1          823519     3.0  2004-05-03  (Dinosaur Planet, 2003)\n",
              "...           ...     ...         ...                      ...\n",
              "4499      2591364     2.0  2005-02-16       (In My Skin, 2002)\n",
              "4499      1791000     2.0  2005-02-10       (In My Skin, 2002)\n",
              "4499       512536     5.0  2005-07-27       (In My Skin, 2002)\n",
              "4499       988963     3.0  2005-12-20       (In My Skin, 2002)\n",
              "4499      1704416     3.0  2004-06-02       (In My Skin, 2002)\n",
              "\n",
              "[24053764 rows x 4 columns]"
            ]
          },
          "metadata": {},
          "execution_count": 13
        }
      ]
    },
    {
      "cell_type": "markdown",
      "metadata": {
        "id": "tu5EfwjiwN89"
      },
      "source": [
        "## **Quantos filmes estão disponíveis no dataset?**"
      ]
    },
    {
      "cell_type": "code",
      "metadata": {
        "colab": {
          "base_uri": "https://localhost:8080/"
        },
        "id": "JyZl7jy9X64M",
        "outputId": "6a2f289d-bc59-4e73-efa5-db9d088afc98"
      },
      "source": [
        "df_movies.drop_duplicates(\"Movie_Name\", inplace=True) \n",
        "#Excluindo da base de dados filmes com nome repetido na lista\n",
        "\n",
        "movies_numbers = df_movies['Movie_Name'].count() \n",
        "#Realizando a contagem do número de filmes na base de dados\n",
        "\n",
        "print(\"A quantidade de filmes é %i\" % movies_numbers)"
      ],
      "execution_count": null,
      "outputs": [
        {
          "output_type": "stream",
          "name": "stdout",
          "text": [
            "A quantidade de filmes é 4498\n"
          ]
        }
      ]
    },
    {
      "cell_type": "markdown",
      "metadata": {
        "id": "JhMsMwfM0G7o"
      },
      "source": [
        "# **Qual é o nome dos 5 filmes com melhor média de avaliação?**"
      ]
    },
    {
      "cell_type": "code",
      "metadata": {
        "colab": {
          "base_uri": "https://localhost:8080/"
        },
        "id": "s_AkuPiB0KUx",
        "outputId": "56b9968f-67c3-4564-f15c-76472d0d60ac"
      },
      "source": [
        "movie_ratings.groupby(\"Movie_Name\")[\"Rating\"].mean().sort_values(ascending=False).head(5) \n",
        "#Realizando um agrupamento entre o nome dos filmes e a média das avalizações, na ordem decrescente e limitando aos 5 primeiros.\n",
        "\n"
      ],
      "execution_count": null,
      "outputs": [
        {
          "output_type": "execute_result",
          "data": {
            "text/plain": [
              "Movie_Name\n",
              "(Lost: Season 1, 2004)                                                                 4.670989\n",
              "(Ghost in the Shell: Stand Alone Complex: 2nd Gig, 2005)                               4.586364\n",
              "(The Simpsons: Season 6, 1994)                                                         4.581296\n",
              "(Inu-Yasha, 2000)                                                                      4.554434\n",
              "(Lord of the Rings: The Return of the King: Extended Edition: Bonus Material, 2003)    4.552000\n",
              "Name: Rating, dtype: float64"
            ]
          },
          "metadata": {},
          "execution_count": 9
        }
      ]
    },
    {
      "cell_type": "markdown",
      "metadata": {
        "id": "-T2ZC6CtCbFW"
      },
      "source": [
        "# **Quais os 5 anos com menos lançamentos de filmes?**"
      ]
    },
    {
      "cell_type": "code",
      "metadata": {
        "colab": {
          "base_uri": "https://localhost:8080/"
        },
        "id": "EOKj3hnhCpIN",
        "outputId": "9d3f7dc9-f822-4921-e075-161728b65227"
      },
      "source": [
        "years = [] \n",
        "#Criando uma lista para armazenar os dados da iteração\n",
        "\n",
        "for movie in df_movies[\"Movie_Name\"]: \n",
        "  #Laço for para fazer a iteração de todos os nomes de filmes\n",
        "  \n",
        "  movie_split = movie.split() \n",
        "  #Quebrando a String dos filmes em partes\n",
        "  \n",
        "  movie_last = movie_split[-1] \n",
        "  #Selecionando a ultima parte do nome do filme divido em partes\n",
        "  \n",
        "  year = movie_last[:4] \n",
        "  #Removendo p \")\" da parte anterior para ficar apenas os números do ano\n",
        "  \n",
        "  years.append(year) \n",
        "  # Adicionando o ano a Lista criada no inicio\n",
        "\n",
        "df_movies['Years']= years \n",
        "#Adicionando uma coluna \"Years\" a base de dados dos filmes preenchindo com a lista totalmente iterada\n",
        "\n",
        "df_movies.groupby(\"Years\")[\"Movie_Name\"].count().sort_values(ascending=True).head(5)\n",
        "#Realizando um agrupamento entre os anos de lançamento do filme e o nome dos filmes, na ordem crescente e limitando a 5\n"
      ],
      "execution_count": null,
      "outputs": [
        {
          "output_type": "execute_result",
          "data": {
            "text/plain": [
              "Years\n",
              "1915    1\n",
              "1917    1\n",
              "1922    1\n",
              "1926    1\n",
              "1916    2\n",
              "Name: Movie_Name, dtype: int64"
            ]
          },
          "metadata": {},
          "execution_count": 10
        }
      ]
    },
    {
      "cell_type": "markdown",
      "metadata": {
        "id": "oUxn52MYavaq"
      },
      "source": [
        "# **Quantos filmes que possuem avaliação maior ou igual a 4.7, considerando apenas os filmes avaliados na última data de avaliação do dataset?**"
      ]
    },
    {
      "cell_type": "code",
      "metadata": {
        "colab": {
          "base_uri": "https://localhost:8080/"
        },
        "id": "axrlOqNKa5kP",
        "outputId": "2ebfb807-5622-49c3-b75a-b630ade688cb"
      },
      "source": [
        "movie_ratings['Date'] = pd.to_datetime(movie_ratings['Date']) \n",
        "#Convertendo a coluna \"Date\" de objetct para datetime\n",
        "\n",
        "movie_ratings[\"Date\"].max() \n",
        "#Aplicando a função .max() para saber qual é data mais recente de avaliação"
      ],
      "execution_count": null,
      "outputs": [
        {
          "output_type": "execute_result",
          "data": {
            "text/plain": [
              "Timestamp('2005-12-31 00:00:00')"
            ]
          },
          "metadata": {},
          "execution_count": 11
        }
      ]
    },
    {
      "cell_type": "code",
      "metadata": {
        "id": "Tn9WOEKGp8m_",
        "colab": {
          "base_uri": "https://localhost:8080/"
        },
        "outputId": "6f9b7da0-153f-4128-c7b7-9f7d22d714a2"
      },
      "source": [
        "last_date = movie_ratings.loc[movie_ratings['Date'] == \"2005-12-31\"] \n",
        "#Criando um dataframe para armazenar as avaliações realizada na ultima data de avaliação\n",
        "\n",
        "last_date_ratings = last_date.groupby(\"Movie_Name\")[\"Movie_Name\",\"Rating\"].mean() \n",
        "#Criando um dataframe para Armazenar o Nome dos filmes e a média das avaliações\n",
        "\n",
        "last_date_ratings_over = last_date_ratings.loc[last_date_ratings['Rating'] >= 4.7] \n",
        "#Criando um dataframe para armazenar apenas os filmes com média de avaliação igual ou acima de 4.7\n",
        "\n",
        "rating_movie_numbers = last_date_ratings_over.count() \n",
        "#Realizando a conta de filmes com média de avaliações igual ou acim de 4.7\n",
        "\n",
        "print(\"A quantidade de filmes com avaliação mais recente e com média de avaliação igual ou superior a 4.7 é %i \\n\" % rating_movie_numbers)"
      ],
      "execution_count": null,
      "outputs": [
        {
          "output_type": "stream",
          "name": "stdout",
          "text": [
            "A quantidade de filmes com avaliação mais recente e com média de avaliação igual ou superior a 4.7 é 195 \n",
            "\n"
          ]
        },
        {
          "output_type": "stream",
          "name": "stderr",
          "text": [
            "/usr/local/lib/python3.7/dist-packages/ipykernel_launcher.py:4: FutureWarning: Indexing with multiple keys (implicitly converted to a tuple of keys) will be deprecated, use a list instead.\n",
            "  after removing the cwd from sys.path.\n"
          ]
        }
      ]
    },
    {
      "cell_type": "markdown",
      "metadata": {
        "id": "bQX4Od_laPSF"
      },
      "source": [
        "# **Dos filmes encontrados na questão anterior, quais são os 10 filmes com as piores notas e quais as notas?**"
      ]
    },
    {
      "cell_type": "code",
      "metadata": {
        "colab": {
          "base_uri": "https://localhost:8080/",
          "height": 390
        },
        "id": "0EhKv2paaTIf",
        "outputId": "af47a38d-6fbe-4919-978d-b803780619a9"
      },
      "source": [
        "last_date_ratings_over.sort_values(ascending = True, by = \"Rating\").head(10) \n",
        "#Realizando a listagem dos filmes com as piores notas do caso anterior. na ordem crescente e limitando a 10"
      ],
      "execution_count": null,
      "outputs": [
        {
          "output_type": "execute_result",
          "data": {
            "text/html": [
              "<div>\n",
              "<style scoped>\n",
              "    .dataframe tbody tr th:only-of-type {\n",
              "        vertical-align: middle;\n",
              "    }\n",
              "\n",
              "    .dataframe tbody tr th {\n",
              "        vertical-align: top;\n",
              "    }\n",
              "\n",
              "    .dataframe thead th {\n",
              "        text-align: right;\n",
              "    }\n",
              "</style>\n",
              "<table border=\"1\" class=\"dataframe\">\n",
              "  <thead>\n",
              "    <tr style=\"text-align: right;\">\n",
              "      <th></th>\n",
              "      <th>Rating</th>\n",
              "    </tr>\n",
              "    <tr>\n",
              "      <th>Movie_Name</th>\n",
              "      <th></th>\n",
              "    </tr>\n",
              "  </thead>\n",
              "  <tbody>\n",
              "    <tr>\n",
              "      <th>(Spirited Away, 2002)</th>\n",
              "      <td>4.714286</td>\n",
              "    </tr>\n",
              "    <tr>\n",
              "      <th>(SpongeBob SquarePants: Season 3, 2002)</th>\n",
              "      <td>4.750000</td>\n",
              "    </tr>\n",
              "    <tr>\n",
              "      <th>(The Twilight Zone: Vol. 41, 1960)</th>\n",
              "      <td>4.750000</td>\n",
              "    </tr>\n",
              "    <tr>\n",
              "      <th>(Absolutely Fabulous: Series 2, 1994)</th>\n",
              "      <td>4.750000</td>\n",
              "    </tr>\n",
              "    <tr>\n",
              "      <th>(Gilmore Girls: Season 3, 2002)</th>\n",
              "      <td>4.750000</td>\n",
              "    </tr>\n",
              "    <tr>\n",
              "      <th>(The Twilight Zone: Vol. 15, 1963)</th>\n",
              "      <td>4.750000</td>\n",
              "    </tr>\n",
              "    <tr>\n",
              "      <th>(Pete's Dragon, 1977)</th>\n",
              "      <td>4.750000</td>\n",
              "    </tr>\n",
              "    <tr>\n",
              "      <th>(An Evening With Kevin Smith, 2002)</th>\n",
              "      <td>4.750000</td>\n",
              "    </tr>\n",
              "    <tr>\n",
              "      <th>(Curb Your Enthusiasm: Season 3, 2002)</th>\n",
              "      <td>4.800000</td>\n",
              "    </tr>\n",
              "    <tr>\n",
              "      <th>(In the Mood for Love, 2001)</th>\n",
              "      <td>4.800000</td>\n",
              "    </tr>\n",
              "  </tbody>\n",
              "</table>\n",
              "</div>"
            ],
            "text/plain": [
              "                                           Rating\n",
              "Movie_Name                                       \n",
              "(Spirited Away, 2002)                    4.714286\n",
              "(SpongeBob SquarePants: Season 3, 2002)  4.750000\n",
              "(The Twilight Zone: Vol. 41, 1960)       4.750000\n",
              "(Absolutely Fabulous: Series 2, 1994)    4.750000\n",
              "(Gilmore Girls: Season 3, 2002)          4.750000\n",
              "(The Twilight Zone: Vol. 15, 1963)       4.750000\n",
              "(Pete's Dragon, 1977)                    4.750000\n",
              "(An Evening With Kevin Smith, 2002)      4.750000\n",
              "(Curb Your Enthusiasm: Season 3, 2002)   4.800000\n",
              "(In the Mood for Love, 2001)             4.800000"
            ]
          },
          "metadata": {},
          "execution_count": 13
        }
      ]
    },
    {
      "cell_type": "markdown",
      "metadata": {
        "id": "NcBuiw_8askj"
      },
      "source": [
        "# **Quais os id's dos 5 customer que mais avaliaram filmes e quantas avaliações cada um fez?**"
      ]
    },
    {
      "cell_type": "code",
      "metadata": {
        "colab": {
          "base_uri": "https://localhost:8080/"
        },
        "id": "LZ2YJo5dawnW",
        "outputId": "126c0c9d-fa05-45a4-d397-4bb04b1d10c9"
      },
      "source": [
        "movie_ratings.groupby(\"Cust_Id\")[\"Rating\"].count().sort_values(ascending = False).head(5)\n",
        "#Realizando um agrupamento entre os customers e a quantidade de avaliações contadas, na ordem crescente e limitando a 5"
      ],
      "execution_count": null,
      "outputs": [
        {
          "output_type": "execute_result",
          "data": {
            "text/plain": [
              "Cust_Id\n",
              "305344     4467\n",
              "387418     4422\n",
              "2439493    4195\n",
              "1664010    4019\n",
              "2118461    3769\n",
              "Name: Rating, dtype: int64"
            ]
          },
          "metadata": {},
          "execution_count": 20
        }
      ]
    }
  ]
}